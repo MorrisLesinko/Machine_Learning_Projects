{
  "cells": [
    {
      "cell_type": "markdown",
      "metadata": {
        "id": "view-in-github",
        "colab_type": "text"
      },
      "source": [
        "<a href=\"https://colab.research.google.com/github/MorrisLesinko/Machine_Learning_Projects/blob/main/Stock_Sentiment_Analysis.ipynb\" target=\"_parent\"><img src=\"https://colab.research.google.com/assets/colab-badge.svg\" alt=\"Open In Colab\"/></a>"
      ]
    },
    {
      "cell_type": "code",
      "execution_count": null,
      "metadata": {
        "colab": {
          "background_save": true,
          "base_uri": "https://localhost:8080/",
          "height": 35
        },
        "id": "Kx9i94kECxtS",
        "outputId": "fe0b768a-f785-4597-822e-2814b6dcddd2"
      },
      "outputs": [
        {
          "data": {
            "application/vnd.google.colaboratory.intrinsic+json": {
              "type": "string"
            },
            "text/plain": [
              "\"@alydesigns i was out most of the day so didn't get much done \""
            ]
          },
          "execution_count": 53,
          "metadata": {},
          "output_type": "execute_result"
        }
      ],
      "source": [
        "from re import X\n",
        "\"\"\"from google.colab import files\n",
        "\n",
        "# Step 1: Upload kaggle.json\n",
        "uploaded = files.upload()\n",
        "\n",
        "# Step 2: Ensure the Kaggle directory exists\n",
        "import os\n",
        "if not os.path.exists(os.path.expanduser(\"~/.kaggle\")):\n",
        "    os.makedirs(os.path.expanduser(\"~/.kaggle\"))\n",
        "\n",
        "# Move the uploaded kaggle.json file to the Kaggle directory\n",
        "for filename in uploaded.keys():\n",
        "    os.rename(filename, os.path.expanduser(\"~/.kaggle/kaggle.json\"))\n",
        "\n",
        "# Set permissions for the Kaggle API key\n",
        "! chmod 600 ~/.kaggle/kaggle.json\n",
        "\n",
        "# To list all the datasets on Kaggle\n",
        "#! kaggle datasets list\n",
        "! kaggle datasets download -d raj713335/twittesentimentanalysis\n",
        "\n",
        "!unzip \\*.\\zip && rm *.zip\"\"\"\n",
        "\n",
        "import pandas as pd\n",
        "df =pd.read_csv('/content/tweets.csv', encoding = \"ISO-8859-1\")\n",
        "df.head()\n",
        "\n",
        "\n",
        "# Name the column\n",
        "col_names = ['target','id','date','flag','user','text']\n",
        "df =pd.read_csv('/content/tweets.csv',names=col_names , encoding = \"ISO-8859-1\")\n",
        "df.head()\n",
        "df.shape\n",
        "df.info()\n",
        "\n",
        "# counting the number of missing values\n",
        "df.isnull().sum()\n",
        "df.duplicated().sum()\n",
        "\n",
        "df.drop_duplicates(inplace=True)\n",
        "\n",
        "\n",
        "# Check the distribution of targets columns\n",
        "df['target'].value_counts()\n",
        "\n",
        "X = df.drop('target',axis=1)\n",
        "X.head()\n",
        "y = df['target']\n",
        "y.head()\n",
        "\n",
        "df.dropna()\n",
        "messages =df.copy()\n",
        "messages.reset_index(inplace=True)\n",
        "messages.head()\n",
        "messages['text'][6]\n",
        "import nltk\n",
        "from sklearn.model_selection import train_test_split\n",
        "X_train, X_test, y_train, y_test = train_test_split(X, y, test_size=0.2, random_state=42)\n",
        "\n",
        "from nltk.corpus import stopwords\n",
        "from nltk.stem import PorterStemmer\n",
        "import re\n",
        "ps = PorterStemmer()\n",
        "corpus =[]\n",
        "nltk.download('stopwords')\n",
        "\n",
        "\n"
      ]
    }
  ],
  "metadata": {
    "accelerator": "GPU",
    "colab": {
      "gpuType": "T4",
      "provenance": [],
      "toc_visible": true,
      "authorship_tag": "ABX9TyMVevbCCGyq0ZhsGs3aukp1",
      "include_colab_link": true
    },
    "kernelspec": {
      "display_name": "Python 3",
      "name": "python3"
    },
    "language_info": {
      "name": "python"
    }
  },
  "nbformat": 4,
  "nbformat_minor": 0
}