{
  "nbformat": 4,
  "nbformat_minor": 0,
  "metadata": {
    "colab": {
      "provenance": [],
      "authorship_tag": "ABX9TyPHj8n/ycEDmPrRmTn6tVD1",
      "include_colab_link": true
    },
    "kernelspec": {
      "name": "python3",
      "display_name": "Python 3"
    },
    "language_info": {
      "name": "python"
    }
  },
  "cells": [
    {
      "cell_type": "markdown",
      "metadata": {
        "id": "view-in-github",
        "colab_type": "text"
      },
      "source": [
        "<a href=\"https://colab.research.google.com/github/MorrisLesinko/Machine_Learning_Projects/blob/main/NLP_Word2Vec.ipynb\" target=\"_parent\"><img src=\"https://colab.research.google.com/assets/colab-badge.svg\" alt=\"Open In Colab\"/></a>"
      ]
    },
    {
      "cell_type": "code",
      "execution_count": null,
      "metadata": {
        "id": "Tq7Pa4GH2tZW"
      },
      "outputs": [],
      "source": [
        "import nltk\n",
        "from gensim.models import Word2Vec\n",
        "from nltk.corpus import stopwords\n",
        "from nltk.tokenize import word_tokenize, sent_tokenize\n",
        "import re\n",
        "\n",
        "nltk.download('punkt')\n",
        "nltk.download('stopwords')\n",
        "nltk.download('wordnet')\n",
        "\n",
        "paragraph =  \"\"\"I HAVE THREE VISIONS FOR INDIA\"\n",
        "\n",
        "In 3000 years of our history, people from all over the world have come and invadedus, captured our lands, conquered our minds. From Alexander on-vvards. The Greeks,the Turks’, the-Moguls, the Portuguese, the British, the French, the Dutch, all of themcame and looted us, took over what was ours. Yet we have not done this to any othernation. We have not conquered anyone.\n",
        "\n",
        "We have not grabbed their land, their culture, their history and tried to enforce ourway of life on them. Why? Because we respect the freedom of others. That is why myfirst vision is that of FREEDOM. I believe that India got its first vision of this in 1857,when we started the war of independence. It is this freedom that we must protect andnurture and build on. If we are not free, no one will respect us.\n",
        "\n",
        "My second vision for India is DEVELOPMENT. For fifty years we have been adeveloping nation. It is time we see ourselves as a developed nation. We are amongthe top 5 nations of the world in terms of GDP. We have 10 percent growth rate in mostareas. Our poverty levels are falling. Our achievements are being globally recognizedtoday. Yet we lack the self-confidence to see ourselves as a developed nation, self-reliant and self-assured. Isn’t this incorrect?\n",
        "\n",
        "I HAVE A THIRD VISION\n",
        "\n",
        "India must stand up to the world. Because I believe that, unless India stands up tothe world, no one will respect us. Only STRENGTH respects strength. We must bestrong not only as a military power but also as an economics power. Both must gohand-in-hand. My good fortune was to have worked with three great minds. Dr. VikramSarabhai of the Dept of Space, Professor Sathish Dhawan, who succeded him and Dr.Brahm Prakash, father of nuclear material. I was lucky to have worked with all three ofthem closely and consider this the great opportunity of my life.\n",
        "\n",
        "I SEE FOUR MILESTONES IN MY CAREER:\"\"\"\n",
        "\n",
        "# Preprocessing the data\n",
        "text = re.sub(r'\\[[0-9]*\\]', ' ', paragraph)\n",
        "text = re.sub(r'\\s+', ' ', text)\n",
        "text = text.lower()\n",
        "text = re.sub(r'\\d', ' ', text)\n",
        "text = re.sub(r'\\s+', ' ', text)\n",
        "\n",
        "# Preparing dataset\n",
        "sentences = sent_tokenize(text)\n",
        "sentences = [word_tokenize(sentence) for sentence in sentences]\n",
        "\n",
        "for i in range(len(sentences)):\n",
        "    sentences[i] = [word for word in sentences[i] if word not in stopwords.words('english')]\n",
        "\n",
        "# Training the Word2Vec model\n",
        "model = Word2Vec(sentences, min_count=1)\n",
        "\n",
        "#model = model.wv.vocab\n",
        "# To print the vocabulary of the model\n",
        "words = list(model.wv.index_to_key)\n",
        "print(words)"
      ]
    }
  ]
}