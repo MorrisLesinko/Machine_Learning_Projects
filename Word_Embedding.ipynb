{
  "nbformat": 4,
  "nbformat_minor": 0,
  "metadata": {
    "colab": {
      "provenance": [],
      "gpuType": "T4",
      "toc_visible": true,
      "authorship_tag": "ABX9TyPGQJYtmrQSu0Dw7eKao1RB",
      "include_colab_link": true
    },
    "kernelspec": {
      "name": "python3",
      "display_name": "Python 3"
    },
    "language_info": {
      "name": "python"
    },
    "accelerator": "GPU"
  },
  "cells": [
    {
      "cell_type": "markdown",
      "metadata": {
        "id": "view-in-github",
        "colab_type": "text"
      },
      "source": [
        "<a href=\"https://colab.research.google.com/github/MorrisLesinko/Machine_Learning_Projects/blob/main/Word_Embedding.ipynb\" target=\"_parent\"><img src=\"https://colab.research.google.com/assets/colab-badge.svg\" alt=\"Open In Colab\"/></a>"
      ]
    },
    {
      "cell_type": "code",
      "execution_count": null,
      "metadata": {
        "colab": {
          "base_uri": "https://localhost:8080/"
        },
        "id": "OfYVgZYg7bs5",
        "outputId": "9aba7dfb-8dec-487a-91ac-8dbddda6b8c8"
      },
      "outputs": [
        {
          "output_type": "stream",
          "name": "stdout",
          "text": [
            "Model: \"sequential_6\"\n",
            "_________________________________________________________________\n",
            " Layer (type)                Output Shape              Param #   \n",
            "=================================================================\n",
            " embedding_6 (Embedding)     (None, 8, 10)             100000    \n",
            "                                                                 \n",
            "=================================================================\n",
            "Total params: 100000 (390.62 KB)\n",
            "Trainable params: 100000 (390.62 KB)\n",
            "Non-trainable params: 0 (0.00 Byte)\n",
            "_________________________________________________________________\n"
          ]
        },
        {
          "output_type": "stream",
          "name": "stderr",
          "text": [
            "WARNING:tensorflow:6 out of the last 11 calls to <function Model.make_predict_function.<locals>.predict_function at 0x7f297ffa8e50> triggered tf.function retracing. Tracing is expensive and the excessive number of tracings could be due to (1) creating @tf.function repeatedly in a loop, (2) passing tensors with different shapes, (3) passing Python objects instead of tensors. For (1), please define your @tf.function outside of the loop. For (2), @tf.function has reduce_retracing=True option that can avoid unnecessary retracing. For (3), please refer to https://www.tensorflow.org/guide/function#controlling_retracing and https://www.tensorflow.org/api_docs/python/tf/function for  more details.\n"
          ]
        },
        {
          "output_type": "stream",
          "name": "stdout",
          "text": [
            "1/1 [==============================] - 0s 45ms/step\n",
            "[[[ 0.00282886 -0.01320153  0.0167339  -0.02778926  0.01674828\n",
            "   -0.0396657  -0.00186304 -0.02459356  0.0123186  -0.00703428]\n",
            "  [ 0.04635752  0.03821853 -0.01524926  0.0232298   0.01926774\n",
            "    0.00883685  0.00288575  0.03477969  0.02863434  0.0281575 ]\n",
            "  [-0.0327851  -0.01914806 -0.00176364  0.0365306   0.0251839\n",
            "   -0.03102326 -0.0452464  -0.04059817 -0.03672545  0.00656499]\n",
            "  [-0.00247177  0.02586238 -0.03889898 -0.04296477  0.01958842\n",
            "    0.01303928 -0.03265657  0.04724518 -0.02285856 -0.04959242]\n",
            "  [-0.00504623 -0.03533617 -0.03365629 -0.03074695  0.00272924\n",
            "   -0.01276553 -0.00809773  0.00112272 -0.02390219  0.04691886]\n",
            "  [-0.04760515 -0.0142339  -0.01859295  0.00430038 -0.04475972\n",
            "   -0.01751188 -0.04329401  0.0487601  -0.03370412  0.02391123]\n",
            "  [-0.00386735 -0.02190584  0.04585074 -0.03323512  0.02626267\n",
            "    0.02886626  0.0363113  -0.0007479  -0.04914469  0.01453834]\n",
            "  [ 0.00116848 -0.02660438  0.04043296  0.0228621   0.01583692\n",
            "   -0.00135132 -0.04746101  0.02116907 -0.03000243 -0.02962052]]]\n",
            "1/1 [==============================] - 0s 22ms/step\n",
            "[[ 0.00282886 -0.01320153  0.0167339  -0.02778926  0.01674828 -0.0396657\n",
            "  -0.00186304 -0.02459356  0.0123186  -0.00703428]\n",
            " [ 0.04635752  0.03821853 -0.01524926  0.0232298   0.01926774  0.00883685\n",
            "   0.00288575  0.03477969  0.02863434  0.0281575 ]\n",
            " [-0.0327851  -0.01914806 -0.00176364  0.0365306   0.0251839  -0.03102326\n",
            "  -0.0452464  -0.04059817 -0.03672545  0.00656499]\n",
            " [-0.00247177  0.02586238 -0.03889898 -0.04296477  0.01958842  0.01303928\n",
            "  -0.03265657  0.04724518 -0.02285856 -0.04959242]\n",
            " [-0.00504623 -0.03533617 -0.03365629 -0.03074695  0.00272924 -0.01276553\n",
            "  -0.00809773  0.00112272 -0.02390219  0.04691886]\n",
            " [-0.04760515 -0.0142339  -0.01859295  0.00430038 -0.04475972 -0.01751188\n",
            "  -0.04329401  0.0487601  -0.03370412  0.02391123]\n",
            " [-0.00386735 -0.02190584  0.04585074 -0.03323512  0.02626267  0.02886626\n",
            "   0.0363113  -0.0007479  -0.04914469  0.01453834]\n",
            " [ 0.00116848 -0.02660438  0.04043296  0.0228621   0.01583692 -0.00135132\n",
            "  -0.04746101  0.02116907 -0.03000243 -0.02962052]]\n"
          ]
        }
      ],
      "source": [
        "from tensorflow.keras.preprocessing.text import one_hot\n",
        "\n",
        "sent =['the glassof milk'\n",
        "'the glass of juice'\n",
        "           'the cup of tea'\n",
        "           'I am a good boy'\n",
        "           'I am a good developer'\n",
        "           'understand the meaning of words'\n",
        "           'your videos are good,']\n",
        "\n",
        "# Vocabulary Size\n",
        "voc_size =10000\n",
        "onehot_repr =[one_hot(words,voc_size) for words in sent]\n",
        "\n",
        "\n",
        "# Word Embedding Representation\n",
        "from tensorflow.keras.layers import Embedding\n",
        "from tensorflow.keras.preprocessing.sequence import pad_sequences\n",
        "from tensorflow.keras.models import Sequential\n",
        "\n",
        "import numpy as np\n",
        "sent_length =8\n",
        "embedded_docs =pad_sequences(onehot_repr,padding ='pre',maxlen=sent_length)\n",
        "\n",
        "dim =15\n",
        "model =Sequential()\n",
        "model.add(Embedding(voc_size,10,input_length=sent_length))\n",
        "model.compile('adam','mse')\n",
        "\n",
        "model.summary()\n",
        "\n",
        "print (model.predict(embedded_docs))\n",
        "\n",
        "embedded_docs[0]\n",
        "\n",
        "print (model.predict(embedded_docs)[0])\n",
        "pad_sequences"
      ]
    },
    {
      "cell_type": "code",
      "source": [],
      "metadata": {
        "id": "3U6XZEm1C8Oo"
      },
      "execution_count": null,
      "outputs": []
    }
  ]
}